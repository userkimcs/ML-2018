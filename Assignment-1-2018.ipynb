{
 "cells": [
  {
   "cell_type": "markdown",
   "metadata": {},
   "source": [
    "# Bài tập lớn Học máy"
   ]
  },
  {
   "cell_type": "markdown",
   "metadata": {},
   "source": [
    "Mỗi nhóm sinh viên được phân một tập tin chưa dữ liệu bất động sản (bđs) được thu thập từ website gồm 4 thuộc tính \n",
    "1. Mã bất động sản (Id) mang định danh cho tin đăng. Mã bất động sản mang kiểu số \n",
    "2. Loại nhà (HouseTypeCssClass) nhận một trong các giá trị: \n",
    "\n",
    "<ul>\n",
    "    <li>tp-none: nếu tin rao bất động sản là tin bán hoặc cho thuê đất</li>\n",
    "    <li>tp-house: chỉ các loại nhà</li>\n",
    "    <li>tp-villa: biệt thự</li>\n",
    "    <li>tp-hotel: khách sạn</li>\n",
    "    <li>tp-warehouse: nhà kho</li>\n",
    "    <li>tp-building: cao ốc, văn phòng </li>\n",
    "    <li>tp-apartment: căn hộ, chung cư</li>\n",
    "</ul>"
   ]
  },
  {
   "cell_type": "markdown",
   "metadata": {},
   "source": [
    "Sinh viên sử dụng gói Pandas để đọc dữ liệu từ tập tin .csv"
   ]
  },
  {
   "cell_type": "code",
   "execution_count": 1,
   "metadata": {},
   "outputs": [],
   "source": [
    "import pandas"
   ]
  },
  {
   "cell_type": "code",
   "execution_count": 2,
   "metadata": {},
   "outputs": [],
   "source": [
    "data = pandas.read_csv(filepath_or_buffer='bds.csv', \n",
    "                       usecols=['Id', 'HouseTypeCssClass', 'Title', 'Content'])"
   ]
  },
  {
   "cell_type": "markdown",
   "metadata": {},
   "source": [
    "Hàm read_csv có tham số đầu tiên (filepath_or_buffer) là đường dẫn của tập tin. usecols nhận vào một danh sách các cột cần đọc vào. "
   ]
  },
  {
   "cell_type": "markdown",
   "metadata": {},
   "source": [
    "Tiếp theo là kiểm tra kích thước của tập dữ liệu"
   ]
  },
  {
   "cell_type": "code",
   "execution_count": 3,
   "metadata": {},
   "outputs": [
    {
     "data": {
      "text/plain": [
       "(5000, 4)"
      ]
     },
     "execution_count": 3,
     "metadata": {},
     "output_type": "execute_result"
    }
   ],
   "source": [
    "data.shape"
   ]
  },
  {
   "cell_type": "markdown",
   "metadata": {},
   "source": [
    "Dữ liệu gồm 5000 dòng và 4 cột, tương ứng với một bộ (5000, 4) "
   ]
  },
  {
   "cell_type": "markdown",
   "metadata": {},
   "source": [
    "Thử hiển thị một số dòng để xem đã đọc đúng hay chưa "
   ]
  },
  {
   "cell_type": "code",
   "execution_count": 4,
   "metadata": {},
   "outputs": [
    {
     "data": {
      "text/html": [
       "<div>\n",
       "<style scoped>\n",
       "    .dataframe tbody tr th:only-of-type {\n",
       "        vertical-align: middle;\n",
       "    }\n",
       "\n",
       "    .dataframe tbody tr th {\n",
       "        vertical-align: top;\n",
       "    }\n",
       "\n",
       "    .dataframe thead th {\n",
       "        text-align: right;\n",
       "    }\n",
       "</style>\n",
       "<table border=\"1\" class=\"dataframe\">\n",
       "  <thead>\n",
       "    <tr style=\"text-align: right;\">\n",
       "      <th></th>\n",
       "      <th>Id</th>\n",
       "      <th>HouseTypeCssClass</th>\n",
       "      <th>Title</th>\n",
       "      <th>Content</th>\n",
       "    </tr>\n",
       "  </thead>\n",
       "  <tbody>\n",
       "    <tr>\n",
       "      <th>0</th>\n",
       "      <td>1183515</td>\n",
       "      <td>tp-villa</td>\n",
       "      <td>��Vinpearl Phú Quốc triển khai gói vay không l...</td>\n",
       "      <td>1. Thông tin chung. \\n- Tổng diện tích đất: 39...</td>\n",
       "    </tr>\n",
       "    <tr>\n",
       "      <th>1</th>\n",
       "      <td>2657646</td>\n",
       "      <td>tp-none</td>\n",
       "      <td>Bán 2 lô đất hẻm rộng Hoàng Văn Thụ - tp Quy Nhơn</td>\n",
       "      <td>Cần bán 2 lô đất hẻm  rộng Hoàng Văn Thụ , tp ...</td>\n",
       "    </tr>\n",
       "    <tr>\n",
       "      <th>2</th>\n",
       "      <td>789512</td>\n",
       "      <td>tp-apartment</td>\n",
       "      <td>hottt,chung cư greenstar,chủ đầu tư bung hàng ...</td>\n",
       "      <td>Để chuẩn bj hàng cho buổi mở bán trưa thứ 7(11...</td>\n",
       "    </tr>\n",
       "    <tr>\n",
       "      <th>3</th>\n",
       "      <td>2226803</td>\n",
       "      <td>tp-villa</td>\n",
       "      <td>Bán đất diện tích 300 vị trí tuyệt đẹp thuận t...</td>\n",
       "      <td>Bán đất diện tích 300 vị trí tuyệt đẹp thuận t...</td>\n",
       "    </tr>\n",
       "    <tr>\n",
       "      <th>4</th>\n",
       "      <td>1541985</td>\n",
       "      <td>tp-house</td>\n",
       "      <td>Hẻm 86 Trường Chinh-Q.TB 5.6x12m NH 6.1m 1 lầu...</td>\n",
       "      <td>\"Cần bán gấp nhà hẻm 86 Trường Chinh, Tân Bình...</td>\n",
       "    </tr>\n",
       "  </tbody>\n",
       "</table>\n",
       "</div>"
      ],
      "text/plain": [
       "        Id HouseTypeCssClass  \\\n",
       "0  1183515          tp-villa   \n",
       "1  2657646           tp-none   \n",
       "2   789512      tp-apartment   \n",
       "3  2226803          tp-villa   \n",
       "4  1541985          tp-house   \n",
       "\n",
       "                                               Title  \\\n",
       "0  ��Vinpearl Phú Quốc triển khai gói vay không l...   \n",
       "1  Bán 2 lô đất hẻm rộng Hoàng Văn Thụ - tp Quy Nhơn   \n",
       "2  hottt,chung cư greenstar,chủ đầu tư bung hàng ...   \n",
       "3  Bán đất diện tích 300 vị trí tuyệt đẹp thuận t...   \n",
       "4  Hẻm 86 Trường Chinh-Q.TB 5.6x12m NH 6.1m 1 lầu...   \n",
       "\n",
       "                                             Content  \n",
       "0  1. Thông tin chung. \\n- Tổng diện tích đất: 39...  \n",
       "1  Cần bán 2 lô đất hẻm  rộng Hoàng Văn Thụ , tp ...  \n",
       "2  Để chuẩn bj hàng cho buổi mở bán trưa thứ 7(11...  \n",
       "3  Bán đất diện tích 300 vị trí tuyệt đẹp thuận t...  \n",
       "4  \"Cần bán gấp nhà hẻm 86 Trường Chinh, Tân Bình...  "
      ]
     },
     "execution_count": 4,
     "metadata": {},
     "output_type": "execute_result"
    }
   ],
   "source": [
    "data.head(5)"
   ]
  },
  {
   "cell_type": "markdown",
   "metadata": {},
   "source": [
    "Đếm số lượng các nhãn (HouseTypeCssClass)"
   ]
  },
  {
   "cell_type": "code",
   "execution_count": 5,
   "metadata": {},
   "outputs": [
    {
     "data": {
      "text/plain": [
       "tp-house        1985\n",
       "tp-apartment    1640\n",
       "tp-none         1158\n",
       "tp-villa         131\n",
       "tp-building       35\n",
       "tp-warehouse      31\n",
       "tp-hotel          20\n",
       "Name: HouseTypeCssClass, dtype: int64"
      ]
     },
     "execution_count": 5,
     "metadata": {},
     "output_type": "execute_result"
    }
   ],
   "source": [
    "data['HouseTypeCssClass'].value_counts()"
   ]
  },
  {
   "cell_type": "markdown",
   "metadata": {},
   "source": [
    "Vẽ biểu đồ "
   ]
  },
  {
   "cell_type": "code",
   "execution_count": 6,
   "metadata": {},
   "outputs": [
    {
     "data": {
      "image/png": "[encoded data removed]",
      "text/plain": [
       "<Figure size 576x432 with 1 Axes>"
      ]
     },
     "metadata": {
      "needs_background": "light"
     },
     "output_type": "display_data"
    }
   ],
   "source": [
    "# Lưu ý dòng này nếu sử dụng notebook\n",
    "% matplotlib inline\n",
    "import matplotlib.pyplot as plt\n",
    "\n",
    "# chỉnh kích thước ảnh \n",
    "fig = plt.figure(figsize=(8,6))\n",
    "data.groupby('HouseTypeCssClass').HouseTypeCssClass.count().plot.barh()\n",
    "plt.show()"
   ]
  },
  {
   "cell_type": "markdown",
   "metadata": {},
   "source": [
    "Lưu ý: sinh viên phải tự tay gán lại nhãn với những dữ liệu bị sai. "
   ]
  },
  {
   "cell_type": "markdown",
   "metadata": {},
   "source": [
    "Ngoài ra sinh viên cũng cần loại bỏ những từ không có ý nghĩa cho việc phân loại hoặc những ký tự lạ,... Dưới đây là một ví dụ loại bỏ các ký tự không phải ASCII bằng biểu thức chính quy. "
   ]
  },
  {
   "cell_type": "code",
   "execution_count": 7,
   "metadata": {},
   "outputs": [],
   "source": [
    "import regex\n",
    "\n",
    "text = '� • ►► ✿ Khu đô thị Nha Trang Pearl ven sông Cái � ☎ ' "
   ]
  },
  {
   "cell_type": "code",
   "execution_count": 8,
   "metadata": {},
   "outputs": [
    {
     "data": {
      "text/plain": [
       "'� • ►► ✿ Khu đô thị Nha Trang Pearl ven sông Cái � ☎ '"
      ]
     },
     "execution_count": 8,
     "metadata": {},
     "output_type": "execute_result"
    }
   ],
   "source": [
    "text"
   ]
  },
  {
   "cell_type": "code",
   "execution_count": 9,
   "metadata": {},
   "outputs": [
    {
     "data": {
      "text/plain": [
       "'Khu đô thị Nha Trang Pearl ven sông Cái'"
      ]
     },
     "execution_count": 9,
     "metadata": {},
     "output_type": "execute_result"
    }
   ],
   "source": [
    "regex.sub('[^\\p{Latin}\\n\\t\\s]', '', text).strip()"
   ]
  },
  {
   "cell_type": "markdown",
   "metadata": {},
   "source": [
    "Sinh viên viết hàm chuẩn hóa và lọc những từ không liên quan đến phân loại theo mẫu sau: "
   ]
  },
  {
   "cell_type": "code",
   "execution_count": 10,
   "metadata": {},
   "outputs": [],
   "source": [
    "def replace_words(text):\n",
    "    return regex.sub('[^\\p{Latin}\\n\\t\\s]', '', text).strip()"
   ]
  },
  {
   "cell_type": "markdown",
   "metadata": {},
   "source": [
    "Áp dụng vào cột tiêu đề (Title) của toàn bộ dataframe"
   ]
  },
  {
   "cell_type": "code",
   "execution_count": 11,
   "metadata": {},
   "outputs": [],
   "source": [
    "data['Title'] = data['Title'].apply(replace_words)"
   ]
  },
  {
   "cell_type": "code",
   "execution_count": 12,
   "metadata": {},
   "outputs": [
    {
     "data": {
      "text/html": [
       "<div>\n",
       "<style scoped>\n",
       "    .dataframe tbody tr th:only-of-type {\n",
       "        vertical-align: middle;\n",
       "    }\n",
       "\n",
       "    .dataframe tbody tr th {\n",
       "        vertical-align: top;\n",
       "    }\n",
       "\n",
       "    .dataframe thead th {\n",
       "        text-align: right;\n",
       "    }\n",
       "</style>\n",
       "<table border=\"1\" class=\"dataframe\">\n",
       "  <thead>\n",
       "    <tr style=\"text-align: right;\">\n",
       "      <th></th>\n",
       "      <th>Id</th>\n",
       "      <th>HouseTypeCssClass</th>\n",
       "      <th>Title</th>\n",
       "      <th>Content</th>\n",
       "    </tr>\n",
       "  </thead>\n",
       "  <tbody>\n",
       "    <tr>\n",
       "      <th>0</th>\n",
       "      <td>1183515</td>\n",
       "      <td>tp-villa</td>\n",
       "      <td>Vinpearl Phú Quốc triển khai gói vay không lãi...</td>\n",
       "      <td>1. Thông tin chung. \\n- Tổng diện tích đất: 39...</td>\n",
       "    </tr>\n",
       "    <tr>\n",
       "      <th>1</th>\n",
       "      <td>2657646</td>\n",
       "      <td>tp-none</td>\n",
       "      <td>Bán  lô đất hẻm rộng Hoàng Văn Thụ  tp Quy Nhơn</td>\n",
       "      <td>Cần bán 2 lô đất hẻm  rộng Hoàng Văn Thụ , tp ...</td>\n",
       "    </tr>\n",
       "    <tr>\n",
       "      <th>2</th>\n",
       "      <td>789512</td>\n",
       "      <td>tp-apartment</td>\n",
       "      <td>hotttchung cư greenstarchủ đầu tư bung hàng tr...</td>\n",
       "      <td>Để chuẩn bj hàng cho buổi mở bán trưa thứ 7(11...</td>\n",
       "    </tr>\n",
       "    <tr>\n",
       "      <th>3</th>\n",
       "      <td>2226803</td>\n",
       "      <td>tp-villa</td>\n",
       "      <td>Bán đất diện tích  vị trí tuyệt đẹp thuận tiện...</td>\n",
       "      <td>Bán đất diện tích 300 vị trí tuyệt đẹp thuận t...</td>\n",
       "    </tr>\n",
       "    <tr>\n",
       "      <th>4</th>\n",
       "      <td>1541985</td>\n",
       "      <td>tp-house</td>\n",
       "      <td>Hẻm  Trường ChinhQTB xm NH m  lầu mới Giá  tỷ</td>\n",
       "      <td>\"Cần bán gấp nhà hẻm 86 Trường Chinh, Tân Bình...</td>\n",
       "    </tr>\n",
       "  </tbody>\n",
       "</table>\n",
       "</div>"
      ],
      "text/plain": [
       "        Id HouseTypeCssClass  \\\n",
       "0  1183515          tp-villa   \n",
       "1  2657646           tp-none   \n",
       "2   789512      tp-apartment   \n",
       "3  2226803          tp-villa   \n",
       "4  1541985          tp-house   \n",
       "\n",
       "                                               Title  \\\n",
       "0  Vinpearl Phú Quốc triển khai gói vay không lãi...   \n",
       "1    Bán  lô đất hẻm rộng Hoàng Văn Thụ  tp Quy Nhơn   \n",
       "2  hotttchung cư greenstarchủ đầu tư bung hàng tr...   \n",
       "3  Bán đất diện tích  vị trí tuyệt đẹp thuận tiện...   \n",
       "4      Hẻm  Trường ChinhQTB xm NH m  lầu mới Giá  tỷ   \n",
       "\n",
       "                                             Content  \n",
       "0  1. Thông tin chung. \\n- Tổng diện tích đất: 39...  \n",
       "1  Cần bán 2 lô đất hẻm  rộng Hoàng Văn Thụ , tp ...  \n",
       "2  Để chuẩn bj hàng cho buổi mở bán trưa thứ 7(11...  \n",
       "3  Bán đất diện tích 300 vị trí tuyệt đẹp thuận t...  \n",
       "4  \"Cần bán gấp nhà hẻm 86 Trường Chinh, Tân Bình...  "
      ]
     },
     "execution_count": 12,
     "metadata": {},
     "output_type": "execute_result"
    }
   ],
   "source": [
    "data.head(5)"
   ]
  },
  {
   "cell_type": "markdown",
   "metadata": {},
   "source": [
    "Lưu ý: Sinh viên nghiên cứu thêm về những từ không có ý nghĩa hay các ký tự lạ để viết vào báo cáo. "
   ]
  },
  {
   "cell_type": "markdown",
   "metadata": {},
   "source": [
    "Tiếp theo là chia tập dữ liệu thành phần huấn luyện và phần kiểm tra. Ở ví dụ này chỉ thực hiện phân loại tiêu đề. "
   ]
  },
  {
   "cell_type": "code",
   "execution_count": null,
   "metadata": {},
   "outputs": [],
   "source": []
  },
  {
   "cell_type": "code",
   "execution_count": 13,
   "metadata": {},
   "outputs": [],
   "source": [
    "from sklearn.model_selection import train_test_split"
   ]
  },
  {
   "cell_type": "code",
   "execution_count": 14,
   "metadata": {},
   "outputs": [
    {
     "name": "stderr",
     "output_type": "stream",
     "text": [
      "/usr/local/lib/python3.6/dist-packages/sklearn/model_selection/_split.py:2069: FutureWarning: From version 0.21, test_size will always complement train_size unless both are specified.\n",
      "  FutureWarning)\n"
     ]
    }
   ],
   "source": [
    "X_train, X_test, y_train, y_test = train_test_split(data['Title'], \n",
    "                                                    data['HouseTypeCssClass'], \n",
    "                                                    train_size = 0.9)"
   ]
  },
  {
   "cell_type": "markdown",
   "metadata": {},
   "source": [
    "Kiểm tra kích thước của tập huấn luyện và tập kiểm tra"
   ]
  },
  {
   "cell_type": "code",
   "execution_count": 15,
   "metadata": {},
   "outputs": [
    {
     "name": "stdout",
     "output_type": "stream",
     "text": [
      "X train 4500\n",
      "X test 500\n"
     ]
    }
   ],
   "source": [
    "print(\"X train\", len(X_train))\n",
    "print(\"X test\", len(X_test))"
   ]
  },
  {
   "cell_type": "markdown",
   "metadata": {},
   "source": [
    "Ví dụ phân loại đơn giản bằng IF-IDF"
   ]
  },
  {
   "cell_type": "code",
   "execution_count": 16,
   "metadata": {},
   "outputs": [],
   "source": [
    "from sklearn.feature_extraction.text import CountVectorizer\n",
    "from sklearn.feature_extraction.text import TfidfTransformer"
   ]
  },
  {
   "cell_type": "markdown",
   "metadata": {},
   "source": [
    "Thực hiện đếm từ ở tập huấn luyện. Kết quả trả về là ma trận các mẫu từ và số lần xuất hiện. "
   ]
  },
  {
   "cell_type": "code",
   "execution_count": 17,
   "metadata": {},
   "outputs": [],
   "source": [
    "count_vect = CountVectorizer()\n",
    "X_train_counts = count_vect.fit_transform(X_train)"
   ]
  },
  {
   "cell_type": "code",
   "execution_count": 18,
   "metadata": {
    "scrolled": true
   },
   "outputs": [
    {
     "data": {
      "text/plain": [
       "(4500, 3108)"
      ]
     },
     "execution_count": 18,
     "metadata": {},
     "output_type": "execute_result"
    }
   ],
   "source": [
    "X_train_counts.shape"
   ]
  },
  {
   "cell_type": "markdown",
   "metadata": {},
   "source": [
    "Chuyển sang TF-IDF"
   ]
  },
  {
   "cell_type": "code",
   "execution_count": 19,
   "metadata": {},
   "outputs": [],
   "source": [
    "tfidf_transformer = TfidfTransformer()\n",
    "X_train_tfidf = tfidf_transformer.fit_transform(X_train_counts)"
   ]
  },
  {
   "cell_type": "code",
   "execution_count": 20,
   "metadata": {},
   "outputs": [
    {
     "data": {
      "text/plain": [
       "(4500, 3108)"
      ]
     },
     "execution_count": 20,
     "metadata": {},
     "output_type": "execute_result"
    }
   ],
   "source": [
    "X_train_tfidf.shape"
   ]
  },
  {
   "cell_type": "markdown",
   "metadata": {},
   "source": [
    "X_train_tfidf là ma trận kiểu numpy. "
   ]
  },
  {
   "cell_type": "code",
   "execution_count": 21,
   "metadata": {},
   "outputs": [
    {
     "data": {
      "text/plain": [
       "scipy.sparse.csr.csr_matrix"
      ]
     },
     "execution_count": 21,
     "metadata": {},
     "output_type": "execute_result"
    }
   ],
   "source": [
    "type(X_train_tfidf)"
   ]
  },
  {
   "cell_type": "markdown",
   "metadata": {},
   "source": [
    "Ví dụ phân loại đơn giản bằng SVM "
   ]
  },
  {
   "cell_type": "code",
   "execution_count": 22,
   "metadata": {},
   "outputs": [],
   "source": [
    "from sklearn.svm import LinearSVC"
   ]
  },
  {
   "cell_type": "markdown",
   "metadata": {},
   "source": [
    "Thực hiện huấn luyện mô hình"
   ]
  },
  {
   "cell_type": "code",
   "execution_count": 24,
   "metadata": {},
   "outputs": [],
   "source": [
    "model = LinearSVC().fit(X_train_tfidf, y_train)"
   ]
  },
  {
   "cell_type": "markdown",
   "metadata": {},
   "source": [
    "Thử dự báo"
   ]
  },
  {
   "cell_type": "code",
   "execution_count": 25,
   "metadata": {},
   "outputs": [],
   "source": [
    "test_case_1 = \"Cần bán gấp nhà ở Bạch Mai- Giá siêu rẻ 1,95 tỷ- SĐCC – nhà hiếm\""
   ]
  },
  {
   "cell_type": "code",
   "execution_count": 26,
   "metadata": {},
   "outputs": [],
   "source": [
    "vec_test_case_1 = count_vect.transform([test_case_1])"
   ]
  },
  {
   "cell_type": "code",
   "execution_count": 27,
   "metadata": {},
   "outputs": [
    {
     "data": {
      "text/plain": [
       "(1, 3108)"
      ]
     },
     "execution_count": 27,
     "metadata": {},
     "output_type": "execute_result"
    }
   ],
   "source": [
    "vec_test_case_1.shape"
   ]
  },
  {
   "cell_type": "code",
   "execution_count": 28,
   "metadata": {},
   "outputs": [
    {
     "data": {
      "text/plain": [
       "array(['tp-house'], dtype=object)"
      ]
     },
     "execution_count": 28,
     "metadata": {},
     "output_type": "execute_result"
    }
   ],
   "source": [
    "model.predict(vec_test_case_1)"
   ]
  },
  {
   "cell_type": "markdown",
   "metadata": {},
   "source": [
    "Đánh gía mô hình bằng độ chính xác (accuracy)"
   ]
  },
  {
   "cell_type": "code",
   "execution_count": 29,
   "metadata": {},
   "outputs": [],
   "source": [
    "from sklearn.metrics import accuracy_score"
   ]
  },
  {
   "cell_type": "markdown",
   "metadata": {},
   "source": [
    "Chuyển tập "
   ]
  },
  {
   "cell_type": "code",
   "execution_count": 30,
   "metadata": {},
   "outputs": [],
   "source": [
    "vec_tests = count_vect.transform(X_test)"
   ]
  },
  {
   "cell_type": "code",
   "execution_count": 31,
   "metadata": {},
   "outputs": [],
   "source": [
    "y_pred = model.predict(vec_tests)"
   ]
  },
  {
   "cell_type": "code",
   "execution_count": 32,
   "metadata": {},
   "outputs": [
    {
     "data": {
      "text/plain": [
       "0.88"
      ]
     },
     "execution_count": 32,
     "metadata": {},
     "output_type": "execute_result"
    }
   ],
   "source": [
    "accuracy_score(y_test, y_pred)"
   ]
  },
  {
   "cell_type": "code",
   "execution_count": null,
   "metadata": {},
   "outputs": [],
   "source": []
  },
  {
   "cell_type": "code",
   "execution_count": null,
   "metadata": {},
   "outputs": [],
   "source": []
  },
  {
   "cell_type": "code",
   "execution_count": null,
   "metadata": {},
   "outputs": [],
   "source": []
  },
  {
   "cell_type": "code",
   "execution_count": null,
   "metadata": {},
   "outputs": [],
   "source": []
  }
 ],
 "metadata": {
  "kernelspec": {
   "display_name": "Python 3",
   "language": "python",
   "name": "python3"
  },
  "language_info": {
   "codemirror_mode": {
    "name": "ipython",
    "version": 3
   },
   "file_extension": ".py",
   "mimetype": "text/x-python",
   "name": "python",
   "nbconvert_exporter": "python",
   "pygments_lexer": "ipython3",
   "version": "3.6.6"
  }
 },
 "nbformat": 4,
 "nbformat_minor": 2
}
