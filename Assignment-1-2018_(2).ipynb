{
 "cells": [
  {
   "cell_type": "markdown",
   "metadata": {},
   "source": [
    "Ví dụ sử dụng mạng nơ-ron tích chập và véc-tơ từ (fasttext) trong phân loại văn bản. \n",
    "\n",
    "Mô hình được tham khảo từ bài báo \"Convolutional Neural Networks for Sentence Classification\"\n",
    "\n",
    "https://www.aclweb.org/anthology/D14-1181"
   ]
  },
  {
   "cell_type": "code",
   "execution_count": 1,
   "metadata": {},
   "outputs": [
    {
     "name": "stderr",
     "output_type": "stream",
     "text": [
      "Using TensorFlow backend.\n"
     ]
    }
   ],
   "source": [
    "import pandas\n",
    "import numpy\n",
    "import re\n",
    "from keras.preprocessing.text import Tokenizer\n",
    "from keras.preprocessing.sequence import pad_sequences\n",
    "from keras.utils.np_utils import to_categorical\n",
    "from keras.layers import Dense, Input, Flatten\n",
    "from keras.layers import Conv1D, MaxPooling1D, Embedding, Dropout\n",
    "from keras.models import Model, Sequential\n",
    "from keras import initializers\n",
    "import keras\n",
    "%matplotlib inline\n",
    "import matplotlib.pyplot as plt"
   ]
  },
  {
   "cell_type": "code",
   "execution_count": null,
   "metadata": {},
   "outputs": [],
   "source": []
  },
  {
   "cell_type": "code",
   "execution_count": 2,
   "metadata": {},
   "outputs": [],
   "source": [
    "def replace_words(text):\n",
    "    text = regex.sub('[^\\p{Latin}\\n\\t\\s\\d]', '', text).strip()\n",
    "    return text"
   ]
  },
  {
   "cell_type": "markdown",
   "metadata": {},
   "source": [
    "Các hằng số"
   ]
  },
  {
   "cell_type": "code",
   "execution_count": 3,
   "metadata": {},
   "outputs": [],
   "source": [
    "MAX_SEQUENCE_LENGTH = 5500\n",
    "EMBEDDING_DIM = 300\n",
    "VALIDATION_SPLIT = 0.2\n",
    "NUM_CLASS = 7"
   ]
  },
  {
   "cell_type": "code",
   "execution_count": 4,
   "metadata": {},
   "outputs": [],
   "source": [
    "df = pandas.read_csv('bds.csv', delimiter=',')"
   ]
  },
  {
   "cell_type": "markdown",
   "metadata": {},
   "source": [
    "Chuyển nhãn sang dạng số từ 0 đến NUM_CLASS-1 cho phù hợp với đầu vào và đầu ra của thư viện đang sử dụng.  "
   ]
  },
  {
   "cell_type": "code",
   "execution_count": 5,
   "metadata": {},
   "outputs": [],
   "source": [
    "label_text = sorted(set(df['HouseTypeCssClass']))\n",
    "label_to_id = dict((note, number) for number, note in enumerate(label_text))\n",
    "\n",
    "def to_id(i):\n",
    "    return label_to_id[i]\n",
    "\n",
    "df['HouseTypeCssClass']=df['HouseTypeCssClass'].apply(to_id)"
   ]
  },
  {
   "cell_type": "code",
   "execution_count": 6,
   "metadata": {
    "scrolled": true
   },
   "outputs": [
    {
     "data": {
      "text/plain": [
       "['tp-apartment',\n",
       " 'tp-building',\n",
       " 'tp-hotel',\n",
       " 'tp-house',\n",
       " 'tp-none',\n",
       " 'tp-villa',\n",
       " 'tp-warehouse']"
      ]
     },
     "execution_count": 6,
     "metadata": {},
     "output_type": "execute_result"
    }
   ],
   "source": [
    "label_text"
   ]
  },
  {
   "cell_type": "code",
   "execution_count": 7,
   "metadata": {},
   "outputs": [
    {
     "data": {
      "text/plain": [
       "{0, 1, 2, 3, 4, 5, 6}"
      ]
     },
     "execution_count": 7,
     "metadata": {},
     "output_type": "execute_result"
    }
   ],
   "source": [
    "set(df['HouseTypeCssClass'])"
   ]
  },
  {
   "cell_type": "markdown",
   "metadata": {},
   "source": [
    "Chuyển tiêu đề và nhãn vào 2 danh sách"
   ]
  },
  {
   "cell_type": "code",
   "execution_count": 8,
   "metadata": {},
   "outputs": [],
   "source": [
    "texts = []\n",
    "labels = []\n",
    "\n",
    "\n",
    "for data in df['Title']:\n",
    "    texts.append(data)\n",
    "\n",
    "\n",
    "for data in df['HouseTypeCssClass']:\n",
    "    labels.append(data)"
   ]
  },
  {
   "cell_type": "code",
   "execution_count": null,
   "metadata": {},
   "outputs": [],
   "source": []
  },
  {
   "cell_type": "markdown",
   "metadata": {
    "scrolled": true
   },
   "source": [
    "Tách từ"
   ]
  },
  {
   "cell_type": "code",
   "execution_count": 9,
   "metadata": {
    "scrolled": true
   },
   "outputs": [],
   "source": [
    "tokenizer = Tokenizer()\n",
    "tokenizer.fit_on_texts(texts)\n",
    "sequences = tokenizer.texts_to_sequences(texts)\n",
    "\n",
    "word_index = tokenizer.word_index"
   ]
  },
  {
   "cell_type": "markdown",
   "metadata": {},
   "source": [
    "Tạo ma trận từ"
   ]
  },
  {
   "cell_type": "code",
   "execution_count": 10,
   "metadata": {},
   "outputs": [],
   "source": [
    "data = pad_sequences(sequences, maxlen=MAX_SEQUENCE_LENGTH)"
   ]
  },
  {
   "cell_type": "markdown",
   "metadata": {},
   "source": [
    "Chuyển nhãn sang dạng véc-tơ. "
   ]
  },
  {
   "cell_type": "code",
   "execution_count": 11,
   "metadata": {},
   "outputs": [],
   "source": [
    "labels = to_categorical(numpy.asarray(labels))"
   ]
  },
  {
   "cell_type": "markdown",
   "metadata": {},
   "source": [
    "Ví dụ nhãn của ví dụ đầu tiên mang lớp số 3 (tp-house)"
   ]
  },
  {
   "cell_type": "code",
   "execution_count": 12,
   "metadata": {
    "scrolled": true
   },
   "outputs": [
    {
     "data": {
      "text/plain": [
       "array([0., 0., 0., 1., 0., 0., 0.], dtype=float32)"
      ]
     },
     "execution_count": 12,
     "metadata": {},
     "output_type": "execute_result"
    }
   ],
   "source": [
    "labels[0]"
   ]
  },
  {
   "cell_type": "markdown",
   "metadata": {},
   "source": [
    "Chia tập huấn luyện thành 2 phần"
   ]
  },
  {
   "cell_type": "code",
   "execution_count": 13,
   "metadata": {
    "scrolled": false
   },
   "outputs": [],
   "source": [
    "indices = numpy.arange(data.shape[0])\n",
    "numpy.random.shuffle(indices)\n",
    "data = data[indices]\n",
    "labels = labels[indices]\n",
    "nb_validation_samples = int(VALIDATION_SPLIT * data.shape[0])\n",
    "\n",
    "x_train = data[:-nb_validation_samples]\n",
    "y_train = labels[:-nb_validation_samples]\n",
    "x_val = data[-nb_validation_samples:]\n",
    "y_val = labels[-nb_validation_samples:]"
   ]
  },
  {
   "cell_type": "markdown",
   "metadata": {},
   "source": [
    "Đọc file vector và lưu vào từ điển "
   ]
  },
  {
   "cell_type": "code",
   "execution_count": 14,
   "metadata": {},
   "outputs": [],
   "source": [
    "embeddings_dict = {}\n",
    "f = open('wiki.vi.vec')\n",
    "for line in f:\n",
    "    values = line.split('\\t')\n",
    "    word = values[0]\n",
    "    coefs = numpy.asarray(values[1:], dtype='float32')\n",
    "    embeddings_dict[word] = coefs\n",
    "f.close()"
   ]
  },
  {
   "cell_type": "markdown",
   "metadata": {},
   "source": [
    "Tạo ma trận mới mỗi hàng là một véc-tơ tương ứng với từ tại vị trí đó."
   ]
  },
  {
   "cell_type": "code",
   "execution_count": 15,
   "metadata": {},
   "outputs": [],
   "source": [
    "embedding_matrix = numpy.random.random((len(word_index) + 1, EMBEDDING_DIM))\n",
    "for word, i in word_index.items():\n",
    "    embedding_vector = embeddings_dict.get(word)\n",
    "    if embedding_vector is not None:\n",
    "        embedding_matrix[i] = embedding_vector"
   ]
  },
  {
   "cell_type": "markdown",
   "metadata": {},
   "source": [
    "Xóa bộ nhớ"
   ]
  },
  {
   "cell_type": "code",
   "execution_count": 16,
   "metadata": {},
   "outputs": [],
   "source": [
    "embeddings_dict.clear()"
   ]
  },
  {
   "cell_type": "code",
   "execution_count": null,
   "metadata": {},
   "outputs": [],
   "source": []
  },
  {
   "cell_type": "markdown",
   "metadata": {},
   "source": []
  },
  {
   "cell_type": "code",
   "execution_count": 17,
   "metadata": {},
   "outputs": [],
   "source": [
    "embedding_layer = Embedding(len(word_index) + 1,\n",
    "                            EMBEDDING_DIM,\n",
    "                            weights=[embedding_matrix],\n",
    "                            input_length=MAX_SEQUENCE_LENGTH,\n",
    "                            trainable=True)"
   ]
  },
  {
   "cell_type": "code",
   "execution_count": null,
   "metadata": {},
   "outputs": [],
   "source": []
  },
  {
   "cell_type": "code",
   "execution_count": 18,
   "metadata": {},
   "outputs": [],
   "source": [
    "input_sequence = Input(shape=(MAX_SEQUENCE_LENGTH,), dtype='int32')"
   ]
  },
  {
   "cell_type": "code",
   "execution_count": null,
   "metadata": {},
   "outputs": [],
   "source": []
  },
  {
   "cell_type": "code",
   "execution_count": 19,
   "metadata": {},
   "outputs": [],
   "source": [
    "embedded_sequences = embedding_layer(input_sequence)"
   ]
  },
  {
   "cell_type": "code",
   "execution_count": null,
   "metadata": {},
   "outputs": [],
   "source": []
  },
  {
   "cell_type": "markdown",
   "metadata": {},
   "source": [
    "Tạo mô hình CNN"
   ]
  },
  {
   "cell_type": "code",
   "execution_count": 24,
   "metadata": {},
   "outputs": [
    {
     "name": "stdout",
     "output_type": "stream",
     "text": [
      "_________________________________________________________________\n",
      "Layer (type)                 Output Shape              Param #   \n",
      "=================================================================\n",
      "input_1 (InputLayer)         (None, 5500)              0         \n",
      "_________________________________________________________________\n",
      "embedding_1 (Embedding)      (None, 5500, 300)         1535400   \n",
      "_________________________________________________________________\n",
      "conv1d_12 (Conv1D)           (None, 5500, 8)           4808      \n",
      "_________________________________________________________________\n",
      "max_pooling1d_12 (MaxPooling (None, 2750, 8)           0         \n",
      "_________________________________________________________________\n",
      "conv1d_13 (Conv1D)           (None, 2748, 12)          300       \n",
      "_________________________________________________________________\n",
      "max_pooling1d_13 (MaxPooling (None, 1374, 12)          0         \n",
      "_________________________________________________________________\n",
      "conv1d_14 (Conv1D)           (None, 1372, 16)          592       \n",
      "_________________________________________________________________\n",
      "max_pooling1d_14 (MaxPooling (None, 686, 16)           0         \n",
      "_________________________________________________________________\n",
      "conv1d_15 (Conv1D)           (None, 684, 32)           1568      \n",
      "_________________________________________________________________\n",
      "max_pooling1d_15 (MaxPooling (None, 342, 32)           0         \n",
      "_________________________________________________________________\n",
      "conv1d_16 (Conv1D)           (None, 341, 48)           3120      \n",
      "_________________________________________________________________\n",
      "max_pooling1d_16 (MaxPooling (None, 170, 48)           0         \n",
      "_________________________________________________________________\n",
      "conv1d_17 (Conv1D)           (None, 169, 64)           6208      \n",
      "_________________________________________________________________\n",
      "max_pooling1d_17 (MaxPooling (None, 84, 64)            0         \n",
      "_________________________________________________________________\n",
      "conv1d_18 (Conv1D)           (None, 83, 64)            8256      \n",
      "_________________________________________________________________\n",
      "max_pooling1d_18 (MaxPooling (None, 41, 64)            0         \n",
      "_________________________________________________________________\n",
      "conv1d_19 (Conv1D)           (None, 40, 128)           16512     \n",
      "_________________________________________________________________\n",
      "max_pooling1d_19 (MaxPooling (None, 20, 128)           0         \n",
      "_________________________________________________________________\n",
      "conv1d_20 (Conv1D)           (None, 19, 128)           32896     \n",
      "_________________________________________________________________\n",
      "max_pooling1d_20 (MaxPooling (None, 9, 128)            0         \n",
      "_________________________________________________________________\n",
      "conv1d_21 (Conv1D)           (None, 8, 128)            32896     \n",
      "_________________________________________________________________\n",
      "max_pooling1d_21 (MaxPooling (None, 4, 128)            0         \n",
      "_________________________________________________________________\n",
      "conv1d_22 (Conv1D)           (None, 3, 128)            32896     \n",
      "_________________________________________________________________\n",
      "max_pooling1d_22 (MaxPooling (None, 1, 128)            0         \n",
      "_________________________________________________________________\n",
      "flatten_2 (Flatten)          (None, 128)               0         \n",
      "_________________________________________________________________\n",
      "dropout_3 (Dropout)          (None, 128)               0         \n",
      "_________________________________________________________________\n",
      "dense_4 (Dense)              (None, 256)               33024     \n",
      "_________________________________________________________________\n",
      "dropout_4 (Dropout)          (None, 256)               0         \n",
      "_________________________________________________________________\n",
      "dense_5 (Dense)              (None, 128)               32896     \n",
      "_________________________________________________________________\n",
      "dense_6 (Dense)              (None, 7)                 903       \n",
      "=================================================================\n",
      "Total params: 1,742,275\n",
      "Trainable params: 1,742,275\n",
      "Non-trainable params: 0\n",
      "_________________________________________________________________\n"
     ]
    }
   ],
   "source": [
    "out = Conv1D(filters=8, \n",
    "             kernel_size=2, \n",
    "             strides=1, \n",
    "             padding='same', \n",
    "             activation='relu', \n",
    "             kernel_initializer=initializers.he_normal(0.001))(embedded_sequences)\n",
    "out = MaxPooling1D(2)(out)\n",
    "out = Conv1D(12, 3, activation='relu', kernel_initializer=initializers.he_normal(0.001))(out)\n",
    "out = MaxPooling1D(2)(out)\n",
    "out = Conv1D(16, 3, activation='relu', kernel_initializer=initializers.he_normal(0.001))(out)\n",
    "out = MaxPooling1D(2)(out) \n",
    "out = Conv1D(32, 3, activation='relu', kernel_initializer=initializers.he_normal(0.001))(out)\n",
    "out = MaxPooling1D(2)(out)\n",
    "out = Conv1D(48, 2, activation='relu', kernel_initializer=initializers.he_normal(0.001))(out)\n",
    "out = MaxPooling1D(2)(out) \n",
    "out = Conv1D(64, 2, activation='relu', kernel_initializer=initializers.he_normal(0.001))(out)\n",
    "out = MaxPooling1D(2)(out)\n",
    "out = Conv1D(64, 2, activation='relu', kernel_initializer=initializers.he_normal(0.001))(out)\n",
    "out = MaxPooling1D(2)(out) \n",
    "out = Conv1D(128, 2, activation='relu', kernel_initializer=initializers.he_normal(0.001))(out)\n",
    "out = MaxPooling1D(2)(out) \n",
    "out = Conv1D(128, 2, activation='relu', kernel_initializer=initializers.he_normal(0.001))(out)\n",
    "out = MaxPooling1D(2)(out)\n",
    "out = Conv1D(128, 2, activation='relu', kernel_initializer=initializers.he_normal(0.001))(out)\n",
    "out = MaxPooling1D(2)(out)\n",
    "out = Conv1D(128, 2, activation='relu', kernel_initializer=initializers.he_normal(0.001))(out)\n",
    "out = MaxPooling1D(2)(out)\n",
    "out = Flatten()(out)\n",
    "out = Dropout(0.4)(out)\n",
    "out = Dense(256, activation='relu', kernel_initializer=initializers.he_normal(0.001))(out)\n",
    "out = Dropout(0.4)(out)\n",
    "out = Dense(128, activation='relu', kernel_initializer=initializers.he_normal(0.001))(out)\n",
    "out = Dense(NUM_CLASS, activation='softmax')(out)\n",
    "\n",
    "model = Model(input_sequence, out)\n",
    "\n",
    "\n",
    "model.compile(loss=keras.losses.categorical_crossentropy,\n",
    "              optimizer=keras.optimizers.Adam(lr=0.0001),\n",
    "              metrics=['accuracy'])\n",
    "\n",
    "model.summary()"
   ]
  },
  {
   "cell_type": "markdown",
   "metadata": {},
   "source": [
    "Huấn luyện"
   ]
  },
  {
   "cell_type": "code",
   "execution_count": 28,
   "metadata": {
    "scrolled": true
   },
   "outputs": [],
   "source": [
    "history=model.fit(x_train, y_train, \n",
    "                  validation_data=(x_val, y_val),\n",
    "                  epochs=30, \n",
    "                  batch_size=64,\n",
    "                  verbose=False)"
   ]
  },
  {
   "cell_type": "code",
   "execution_count": null,
   "metadata": {},
   "outputs": [],
   "source": [
    "fig1 = plt.figure()\n",
    "plt.plot(history.history['loss'],'r')\n",
    "plt.plot(history.history['val_loss'],'b')\n",
    "plt.legend(['Training loss', 'Validation Loss'])\n",
    "plt.xlabel('Epochs ')\n",
    "plt.ylabel('Loss')\n",
    "plt.show()"
   ]
  },
  {
   "cell_type": "code",
   "execution_count": null,
   "metadata": {},
   "outputs": [],
   "source": [
    "fig2=plt.figure()\n",
    "plt.plot(history.history['acc'],'r')\n",
    "plt.plot(history.history['val_acc'],'b')\n",
    "plt.legend(['Training Accuracy', 'Validation Accuracy'])\n",
    "plt.xlabel('Epochs ')\n",
    "plt.ylabel('Accuracy')\n",
    "plt.show()"
   ]
  }
 ],
 "metadata": {
  "kernelspec": {
   "display_name": "Python 3",
   "language": "python",
   "name": "python3"
  },
  "language_info": {
   "codemirror_mode": {
    "name": "ipython",
    "version": 3
   },
   "file_extension": ".py",
   "mimetype": "text/x-python",
   "name": "python",
   "nbconvert_exporter": "python",
   "pygments_lexer": "ipython3",
   "version": "3.6.6"
  }
 },
 "nbformat": 4,
 "nbformat_minor": 2
}
